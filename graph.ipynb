{
 "cells": [
  {
   "cell_type": "code",
   "execution_count": 8,
   "id": "bd8715d7",
   "metadata": {},
   "outputs": [
    {
     "name": "stdout",
     "output_type": "stream",
     "text": [
      "A\n",
      "B\n",
      "C\n",
      "D\n",
      "E\n",
      "F\n"
     ]
    }
   ],
   "source": [
    "#Breadth First Traversal for a Graph\n",
    "from collections import deque\n",
    "\n",
    "def bfs(graph, start):\n",
    "    visited = set()\n",
    "    queue = deque([start])\n",
    "    visited.add(start)\n",
    "\n",
    "    while queue:\n",
    "        vertex = queue.popleft()\n",
    "        print(vertex)  # Process the vertex (e.g., print it)\n",
    "\n",
    "        for neighbor in graph[vertex]:\n",
    "            if neighbor not in visited:\n",
    "                queue.append(neighbor)\n",
    "                visited.add(neighbor)\n",
    "graph = {\n",
    "    'A': ['B', 'C'],\n",
    "    'B': ['D', 'E'],\n",
    "    'C': ['F'],\n",
    "    'D': [],\n",
    "    'E': ['F'],\n",
    "    'F': []\n",
    "}\n",
    "\n",
    "start_vertex = 'A'\n",
    "\n",
    "bfs(graph, start_vertex)\n"
   ]
  },
  {
   "cell_type": "code",
   "execution_count": 9,
   "id": "de536073",
   "metadata": {},
   "outputs": [
    {
     "name": "stdout",
     "output_type": "stream",
     "text": [
      "A\n",
      "B\n",
      "D\n",
      "E\n",
      "F\n",
      "C\n"
     ]
    }
   ],
   "source": [
    "#Depth First Traversal for a Graph\n",
    "def dfs(graph, start, visited=None):\n",
    "    if visited is None:\n",
    "        visited = set()\n",
    "\n",
    "    visited.add(start)\n",
    "    print(start)  \n",
    "\n",
    "    for neighbor in graph[start]:\n",
    "        if neighbor not in visited:\n",
    "            dfs(graph, neighbor, visited)\n",
    "graph = {\n",
    "    'A': ['B', 'C'],\n",
    "    'B': ['D', 'E'],\n",
    "    'C': ['F'],\n",
    "    'D': [],\n",
    "    'E': ['F'],\n",
    "    'F': []\n",
    "}\n",
    "\n",
    "start_vertex = 'A'\n",
    "\n",
    "dfs(graph, start_vertex)\n",
    "\n"
   ]
  },
  {
   "cell_type": "code",
   "execution_count": 5,
   "id": "c7b0a246",
   "metadata": {},
   "outputs": [
    {
     "name": "stdout",
     "output_type": "stream",
     "text": [
      "The number of nodes at level 2 is: 4\n"
     ]
    }
   ],
   "source": [
    "#Count the number of nodes at given level in a tree using BFS\n",
    "from collections import deque\n",
    "\n",
    "def count_nodes_at_level(graph, start, target_level):\n",
    "    visited = set()  # Set to keep track of visited vertices\n",
    "    queue = deque([(start, 0)])  # Queue for BFS traversal, along with the level of each vertex\n",
    "    visited.add(start)\n",
    "    count = 0\n",
    "\n",
    "    while queue:\n",
    "        current, level = queue.popleft()\n",
    "\n",
    "        if level == target_level:\n",
    "            count += 1\n",
    "\n",
    "        for neighbor in graph[current]:\n",
    "            if neighbor not in visited:\n",
    "                queue.append((neighbor, level + 1))\n",
    "                visited.add(neighbor)\n",
    "\n",
    "    return count\n",
    "graph = {\n",
    "    1: [2, 3],\n",
    "    2: [4, 5],\n",
    "    3: [6, 7],\n",
    "    4: [],\n",
    "    5: [],\n",
    "    6: [],\n",
    "    7: [8],\n",
    "    8: []\n",
    "}\n",
    "\n",
    "start_node = 1\n",
    "target_level = 2\n",
    "\n",
    "node_count = count_nodes_at_level(graph, start_node, target_level)\n",
    "print(f\"The number of nodes at level {target_level} is: {node_count}\")\n",
    "\n"
   ]
  },
  {
   "cell_type": "code",
   "execution_count": 6,
   "id": "ebb4a204",
   "metadata": {},
   "outputs": [
    {
     "name": "stdout",
     "output_type": "stream",
     "text": [
      "The number of trees in the forest is: 2\n"
     ]
    }
   ],
   "source": [
    "#Count number of trees in a forest\n",
    "def count_trees(graph):\n",
    "    visited = set()  # Set to keep track of visited vertices\n",
    "    num_trees = 0\n",
    "\n",
    "    def dfs(vertex):\n",
    "        visited.add(vertex)\n",
    "        for neighbor in graph[vertex]:\n",
    "            if neighbor not in visited:\n",
    "                dfs(neighbor)\n",
    "\n",
    "    for vertex in graph:\n",
    "        if vertex not in visited:\n",
    "            num_trees += 1\n",
    "            dfs(vertex)\n",
    "\n",
    "    return num_trees\n",
    "graph = {\n",
    "    1: [2, 3],\n",
    "    2: [1, 4],\n",
    "    3: [1, 5],\n",
    "    4: [2],\n",
    "    5: [3],\n",
    "    6: [7, 8],\n",
    "    7: [6],\n",
    "    8: [6]\n",
    "}\n",
    "\n",
    "num_of_trees = count_trees(graph)\n",
    "print(f\"The number of trees in the forest is: {num_of_trees}\")\n"
   ]
  },
  {
   "cell_type": "code",
   "execution_count": 7,
   "id": "77cbb09a",
   "metadata": {},
   "outputs": [
    {
     "name": "stdout",
     "output_type": "stream",
     "text": [
      "The graph has a cycle: True\n"
     ]
    }
   ],
   "source": [
    "#Detect Cycle in a Directed Graph\n",
    "def is_cyclic(graph):\n",
    "    visited = set()\n",
    "    recursion_stack = set()\n",
    "\n",
    "    def dfs(vertex):\n",
    "        visited.add(vertex)\n",
    "        recursion_stack.add(vertex)\n",
    "\n",
    "        for neighbor in graph[vertex]:\n",
    "            if neighbor in recursion_stack:\n",
    "                return True  # Cycle detected\n",
    "\n",
    "            if neighbor not in visited:\n",
    "                if dfs(neighbor):\n",
    "                    return True\n",
    "\n",
    "        recursion_stack.remove(vertex)\n",
    "        return False\n",
    "\n",
    "    for vertex in graph:\n",
    "        if vertex not in visited:\n",
    "            if dfs(vertex):\n",
    "                return True\n",
    "\n",
    "    return False\n",
    "\n",
    "graph = {\n",
    "    1: [2],\n",
    "    2: [3],\n",
    "    3: [4, 5],\n",
    "    4: [2],\n",
    "    5: [6],\n",
    "    6: []\n",
    "}\n",
    "\n",
    "has_cycle = is_cyclic(graph)\n",
    "print(f\"The graph has a cycle: {has_cycle}\")\n"
   ]
  },
  {
   "cell_type": "code",
   "execution_count": null,
   "id": "a3e4ca8b",
   "metadata": {},
   "outputs": [],
   "source": []
  }
 ],
 "metadata": {
  "kernelspec": {
   "display_name": "Python 3 (ipykernel)",
   "language": "python",
   "name": "python3"
  },
  "language_info": {
   "codemirror_mode": {
    "name": "ipython",
    "version": 3
   },
   "file_extension": ".py",
   "mimetype": "text/x-python",
   "name": "python",
   "nbconvert_exporter": "python",
   "pygments_lexer": "ipython3",
   "version": "3.9.13"
  }
 },
 "nbformat": 4,
 "nbformat_minor": 5
}
